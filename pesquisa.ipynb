# Importa as bibliotecas necessarias.
import pandas
import numpy
print("Biblioetcas importadas com sucesso")

